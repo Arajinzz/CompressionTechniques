{
 "cells": [
  {
   "cell_type": "code",
   "execution_count": 4,
   "metadata": {},
   "outputs": [
    {
     "data": {
      "image/png": "[encoded data removed]",
      "text/plain": [
       "<Figure size 432x288 with 1 Axes>"
      ]
     },
     "metadata": {},
     "output_type": "display_data"
    }
   ],
   "source": [
    "import numpy as np\n",
    "import cv2\n",
    "import matplotlib.pyplot as plt\n",
    "\n",
    "img = cv2.imread('400x400.png', cv2.IMREAD_GRAYSCALE)\n",
    "\n",
    "plt.imshow(img, cmap='gray')\n",
    "\n",
    "plt.show()"
   ]
  },
  {
   "cell_type": "code",
   "execution_count": 36,
   "metadata": {},
   "outputs": [
    {
     "name": "stdout",
     "output_type": "stream",
     "text": [
      "[[255   0   0   0   0   0   0   0]\n",
      " [255   0   0   0   0   0   0   0]\n",
      " [255   0   0   0   0   0   0   0]\n",
      " [255   0   0   0   0   0   0   0]\n",
      " [255   0   0   0   0   0   0   0]\n",
      " [255   0   0   0   0   0   0   0]\n",
      " [255   0   0   0   0   0   0   0]\n",
      " [255   0   0   0   0   0   0   0]]\n"
     ]
    },
    {
     "data": {
      "text/plain": [
       "<function matplotlib.pyplot.show(*args, **kw)>"
      ]
     },
     "execution_count": 36,
     "metadata": {},
     "output_type": "execute_result"
    },
    {
     "data": {
      "image/png": "[encoded data removed]",
      "text/plain": [
       "<Figure size 432x288 with 1 Axes>"
      ]
     },
     "metadata": {},
     "output_type": "display_data"
    }
   ],
   "source": [
    "images_chunks = []\n",
    "\n",
    "rows, cols = img.shape\n",
    "\n",
    "for i in range(0, rows, 8):\n",
    "    row_chunks = []\n",
    "    for j in range(0, cols, 8):\n",
    "        row_chunks.append(img[i:i+8, j:j+8])\n",
    "    \n",
    "    images_chunks.append(row_chunks)\n",
    "\n",
    "print(images_chunks[0][0])\n",
    "    \n",
    "plt.imshow(images_chunks[0][0], cmap='gray')\n",
    "plt.show"
   ]
  },
  {
   "cell_type": "code",
   "execution_count": null,
   "metadata": {},
   "outputs": [],
   "source": []
  }
 ],
 "metadata": {
  "kernelspec": {
   "display_name": "Python 3",
   "language": "python",
   "name": "python3"
  },
  "language_info": {
   "codemirror_mode": {
    "name": "ipython",
    "version": 3
   },
   "file_extension": ".py",
   "mimetype": "text/x-python",
   "name": "python",
   "nbconvert_exporter": "python",
   "pygments_lexer": "ipython3",
   "version": "3.6.5"
  }
 },
 "nbformat": 4,
 "nbformat_minor": 2
}
