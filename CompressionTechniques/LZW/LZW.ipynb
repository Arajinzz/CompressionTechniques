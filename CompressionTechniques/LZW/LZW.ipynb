{
 "cells": [
  {
   "cell_type": "code",
   "execution_count": 2,
   "metadata": {},
   "outputs": [],
   "source": [
    "import string\n"
   ]
  },
  {
   "cell_type": "code",
   "execution_count": 7,
   "metadata": {},
   "outputs": [
    {
     "name": "stdout",
     "output_type": "stream",
     "text": [
      "{'k': 10, 'e': 4, 'b': 1, 'x': 23, 'd': 3, 's': 18, 'y': 24, 'i': 8, 'v': 21, 'm': 12, 'p': 15, 'q': 16, 'g': 6, 'a': 0, 'u': 20, 'j': 9, 'z': 25, 'o': 14, 'r': 17, 'h': 7, 't': 19, 'c': 2, 'f': 5, 'n': 13, 'l': 11, 'w': 22}\n",
      "[0, 1, 1, 0, 29, 26, 28, 28, 29, 27, 30, 27, 1]\n"
     ]
    }
   ],
   "source": [
    "data = 'abbaaaabbabaaabbaaabbb'\n",
    "\n",
    "encoding_dict = dict(zip(string.ascii_lowercase, range(0,26)))\n",
    "\n",
    "print(encoding_dict)\n",
    "\n",
    "w = data[0]\n",
    "k = ''\n",
    "j = 26\n",
    "\n",
    "output = []\n",
    "\n",
    "for i in range(1, len(data)):\n",
    "    k = data[i]\n",
    "    w = w + k\n",
    "    b = False\n",
    "    \n",
    "    for key in encoding_dict:\n",
    "        if w == key:\n",
    "            b = True\n",
    "    \n",
    "    if not(b):\n",
    "        output.append(encoding_dict[w[:-1]])\n",
    "        encoding_dict[w] = j\n",
    "        j+=1\n",
    "        w = k\n",
    "    \n",
    "output.append(encoding_dict[w])\n",
    "print(output)\n",
    "        \n",
    "    \n"
   ]
  },
  {
   "cell_type": "code",
   "execution_count": 8,
   "metadata": {},
   "outputs": [
    {
     "name": "stdout",
     "output_type": "stream",
     "text": [
      "abbaaaabbabaaabbaaabbb\n"
     ]
    }
   ],
   "source": [
    "#decode\n",
    "\n",
    "s = ''\n",
    "\n",
    "for value in output:\n",
    "    for key in encoding_dict:\n",
    "        if encoding_dict[key] == value:\n",
    "            s+= key\n",
    "            \n",
    "            \n",
    "print(s)"
   ]
  },
  {
   "cell_type": "code",
   "execution_count": null,
   "metadata": {},
   "outputs": [],
   "source": []
  }
 ],
 "metadata": {
  "kernelspec": {
   "display_name": "Python 3",
   "language": "python",
   "name": "python3"
  },
  "language_info": {
   "codemirror_mode": {
    "name": "ipython",
    "version": 3
   },
   "file_extension": ".py",
   "mimetype": "text/x-python",
   "name": "python",
   "nbconvert_exporter": "python",
   "pygments_lexer": "ipython3",
   "version": "3.5.1"
  }
 },
 "nbformat": 4,
 "nbformat_minor": 2
}
